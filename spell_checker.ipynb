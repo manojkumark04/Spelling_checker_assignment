{
  "nbformat": 4,
  "nbformat_minor": 0,
  "metadata": {
    "colab": {
      "provenance": [],
      "authorship_tag": "ABX9TyP4Wt/fVhQQ+T326xqN/QLG",
      "include_colab_link": true
    },
    "kernelspec": {
      "name": "python3",
      "display_name": "Python 3"
    },
    "language_info": {
      "name": "python"
    }
  },
  "cells": [
    {
      "cell_type": "markdown",
      "metadata": {
        "id": "view-in-github",
        "colab_type": "text"
      },
      "source": [
        "<a href=\"https://colab.research.google.com/gist/manojkumark04/da87cf8f8d4e51075230df3e2ce3a0ac/spell_checker.ipynb\" target=\"_parent\"><img src=\"https://colab.research.google.com/assets/colab-badge.svg\" alt=\"Open In Colab\"/></a>"
      ]
    },
    {
      "cell_type": "markdown",
      "source": [
        "**Spell Checker**\n"
      ],
      "metadata": {
        "id": "gTuPXgaBDxxF"
      }
    },
    {
      "cell_type": "code",
      "execution_count": null,
      "metadata": {
        "colab": {
          "base_uri": "https://localhost:8080/"
        },
        "id": "Rdz0gyWI7015",
        "outputId": "481d59cf-8224-4594-c2bf-689c1971dbd5"
      },
      "outputs": [
        {
          "output_type": "stream",
          "name": "stdout",
          "text": [
            "Drive already mounted at /content/drive; to attempt to forcibly remount, call drive.mount(\"/content/drive\", force_remount=True).\n"
          ]
        }
      ],
      "source": [
        "from google.colab import drive\n",
        "drive.mount(\"/content/drive\")"
      ]
    },
    {
      "cell_type": "code",
      "source": [
        "!pip install textblob"
      ],
      "metadata": {
        "id": "doAva9K8siH1",
        "colab": {
          "base_uri": "https://localhost:8080/"
        },
        "outputId": "468707f8-05bc-457c-b7ef-727aa35d47e9"
      },
      "execution_count": null,
      "outputs": [
        {
          "output_type": "stream",
          "name": "stdout",
          "text": [
            "Looking in indexes: https://pypi.org/simple, https://us-python.pkg.dev/colab-wheels/public/simple/\n",
            "Requirement already satisfied: textblob in /usr/local/lib/python3.8/dist-packages (0.15.3)\n",
            "Requirement already satisfied: nltk>=3.1 in /usr/local/lib/python3.8/dist-packages (from textblob) (3.7)\n",
            "Requirement already satisfied: joblib in /usr/local/lib/python3.8/dist-packages (from nltk>=3.1->textblob) (1.2.0)\n",
            "Requirement already satisfied: tqdm in /usr/local/lib/python3.8/dist-packages (from nltk>=3.1->textblob) (4.64.1)\n",
            "Requirement already satisfied: click in /usr/local/lib/python3.8/dist-packages (from nltk>=3.1->textblob) (7.1.2)\n",
            "Requirement already satisfied: regex>=2021.8.3 in /usr/local/lib/python3.8/dist-packages (from nltk>=3.1->textblob) (2022.6.2)\n"
          ]
        }
      ]
    },
    {
      "cell_type": "code",
      "source": [
        "mis_spelled = \"absense abscence accomodate accomodation acheive accross agressive apparantly appearence arguement assasination basicly begining beleive belive buisness calender arribean catagory cemetary collegue comming commitee completly concience concious copywrite curiousity definately dissapear dissapoint cstacy embarass enviroment existance familar finaly florescent foriegn fourty foward freind futher glamourous goverment grammer guage greatful gaurd happend harrass harrassment honourary humourous immediatly incidently independant interupt irresistable lightening medecine millenium millenia mispell neccessary noticable ocassion occassion occured occuring occurance occurence paralel parralel persistant Phillipines peice politican posession prefered prefering priviledge pronounciation publically realy recieve refered refering religous rember remeber resistence sence seperate succesful suprise tendancy therefor threshhold tommorow tommorrow tounge truely unforseen unfortunatly untill viscious wiedwhereever wether waether wether wich\"\n",
        "mis_spelled = mis_spelled.split()\n"
      ],
      "metadata": {
        "id": "x2bqwOoFINy4"
      },
      "execution_count": null,
      "outputs": []
    },
    {
      "cell_type": "code",
      "source": [
        "import textblob\n",
        "def spell_corrector(word):\n",
        "  word = textblob.Word(word)\n",
        "  corrected = word.correct()\n",
        "  return corrected\n",
        "corrected = [spell_corrector(i) for i in mis_spelled]\n",
        "corrected\n"
      ],
      "metadata": {
        "id": "hjpP4ATSd-76"
      },
      "execution_count": null,
      "outputs": []
    },
    {
      "cell_type": "code",
      "source": [
        "words = list(zip(mis_spelled, corrected))\n",
        "words"
      ],
      "metadata": {
        "id": "eAiqlRQeh6az"
      },
      "execution_count": null,
      "outputs": []
    },
    {
      "cell_type": "code",
      "source": [
        "mis_spelled_sentence = [    \"I will meet you at the parkin lot.\",    \"I need to take my medicaton.\",    \"I am goin to the beutician.\",    \"I need to do some excercize.\",    \"I will be thier in a secound.\",    \"I need to do some homewok.\",    \"I will meet you at the offise.\",    \"I need to do some irregation.\",    \"I will be thier in a jiffey.\",    \"I am goin to the kichen.\",    \"I need to take my lunch.\",    \"I will meet you at the movi theatre.\",    \"I need to do some nap.\",    \"I will be thier in a momment.\",   \"I cant handel the stress at skool.\",    \"I am failin all my clasess.\",    \"I dont no what to do with my futur.\",    \"I am being bullied at skool.\",    \"I am having trouble with frienships.\",    \"I am struggling with depresion.\",    \"I am having a hard time concentratin.\",    \"I am not motivated to do my homewok.\",    \"I am not happy at skool.\",    \"I am having trouble with my grdes.\",    \"I am feeling overwhelmed by skool.\",    \"I am not sure what career path to take.\",    \"I am feeling isolated at skool.\",    \"I am having trouble with time management.\",    \"I am not sure how to ask for help.\",    \"I am not doing well on test.\",    \"I am having trouble with procrastination.\",    \"I am feeling unmotivated to learn.\",    \"I am not sure how to study effetively.\",  \"I am goin to the operahouse.\",    \"I need to take my pill.\",    \"I will meet you at the quik mart.\",    \"I need to do some rest.\",    \"I will be thier in a secound.\", \"I will meet you at the meetin.\",    \"I need to take my prescripsion.\",    \"I am goin to the beech.\",    \"I need to do some exersize.\",    \"I will be thier in a secon.\",    \"I need to do some hme work.\",    \"I will meet you at the offce.\",    \"I need to do some irregation.\",    \"I will be thier in a jiffy.\",    \"I am goin to the kichen.\",    \"I need to take my lenth.\",    \"I will meet you at the movie.\",    \"I need to do some naps.\",    \"I will be thier in a momento.\",    \"I am goin to the operahouse.\",    \"I need to take my pills.\",    \"I will meet you at the quikie mart.\",    \"I need to do some rest.\",    \"I will be thier in a secundo.\",\"I will meet you at the resturant.\",    \"I need to take my vacasion.\",    \"I am goin to the watherpark.\",    \"I need to do some xcercise.\",    \"I will be thier in a yiffy.\",    \"I need to do some zome work.\",    \"I will meet you at the ariport.\",    \"I need to do some bakng.\",    \"I will be thier in a ciffy.\",    \"I am goin to the daycare.\",    \"I need to take my elexir.\",    \"I will meet you at the festival.\",    \"I need to do some garding.\",    \"I will be thier in a hiffy.\",    \"I am goin to the icecream shop.\",    \"I need to take my juice.\",    \"I will meet you at the karaoke.\",    \"I need to do some laundry.\",    \"I will be thier in a minitue.\", \"I wnt to the store.\",    \"I cnt spell very well.\",    \"I need to by some grocies.\",    \"I need to mak a call.\",    \"I will meet you at the libary.\",    \"I will be thier in a minut.\",    \"I am goin to the park.\",    \"I will see you latter.\",    \"I need to take my medisine.\",    \"I will give you a call ltr.\",    \"I am going to the mall.\",    \"I will be back in a sec.\",    \"I need to take a nap.\",    \"I need to do some shoppin.\",    \"I will meet you at the cafe.\",    \"I need to do some laundry.\",    \"I will be thier in a moment.\",    \"I am goin to the gym.\",    \"I will see you soon.\",    \"I need to take my vitamins.\"]\n",
        "len(mis_spelled_sentence)"
      ],
      "metadata": {
        "colab": {
          "base_uri": "https://localhost:8080/"
        },
        "id": "i1Nr-YNgjfMD",
        "outputId": "d4a9cb38-2ad1-4e75-8fb8-9d960ecad08b"
      },
      "execution_count": null,
      "outputs": [
        {
          "output_type": "execute_result",
          "data": {
            "text/plain": [
              "96"
            ]
          },
          "metadata": {},
          "execution_count": 25
        }
      ]
    },
    {
      "cell_type": "code",
      "source": [
        "def sentence_spell_corrector(sentence):\n",
        "  sentence = textblob.TextBlob(sentence)\n",
        "  corrected_sentence = sentence.correct()\n",
        "  return corrected_sentence\n",
        "correct_sentece = []\n",
        "for j in mis_spelled_sentence:\n",
        "  correct_sentece.append(sentence_spell_corrector(j))\n",
        "correct_sentece"
      ],
      "metadata": {
        "id": "8VBojmnZVlNe"
      },
      "execution_count": null,
      "outputs": []
    }
  ]
}